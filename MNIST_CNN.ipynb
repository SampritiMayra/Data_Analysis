{
  "nbformat": 4,
  "nbformat_minor": 0,
  "metadata": {
    "colab": {
      "provenance": [],
      "gpuType": "T4",
      "authorship_tag": "ABX9TyM0rhMCxcjr+URAHvW2hDZU",
      "include_colab_link": true
    },
    "kernelspec": {
      "name": "python3",
      "display_name": "Python 3"
    },
    "language_info": {
      "name": "python"
    },
    "accelerator": "GPU"
  },
  "cells": [
    {
      "cell_type": "markdown",
      "metadata": {
        "id": "view-in-github",
        "colab_type": "text"
      },
      "source": [
        "<a href=\"https://colab.research.google.com/github/SampritiMayra/Data_Analysis_prep/blob/main/MNIST_CNN.ipynb\" target=\"_parent\"><img src=\"https://colab.research.google.com/assets/colab-badge.svg\" alt=\"Open In Colab\"/></a>"
      ]
    },
    {
      "cell_type": "markdown",
      "source": [
        "The **MNIST database** of handwritten digits has a training set of 60,000 examples, and a test set of 10,000 examples. "
      ],
      "metadata": {
        "id": "A0iw1z3W0vhJ"
      }
    },
    {
      "cell_type": "code",
      "execution_count": 1,
      "metadata": {
        "id": "mgPfUY4hz_Qq"
      },
      "outputs": [],
      "source": [
        "#importing the required libraries\n",
        "from tensorflow.keras.datasets import mnist\n",
        "from tensorflow.keras.models import Sequential\n",
        "from tensorflow.keras.layers import Conv2D\n",
        "from tensorflow.keras.layers import MaxPool2D\n",
        "from tensorflow.keras.layers import Flatten\n",
        "from tensorflow.keras.layers import Dropout\n",
        "from tensorflow.keras.layers import Dense"
      ]
    },
    {
      "cell_type": "code",
      "source": [
        "#loading data\n",
        "(X_train,y_train) , (X_test,y_test) = mnist.load_data()"
      ],
      "metadata": {
        "colab": {
          "base_uri": "https://localhost:8080/"
        },
        "id": "IUiZlb0l1kGG",
        "outputId": "eb0e11b8-2f44-48ea-c451-762a22aed9dc"
      },
      "execution_count": 2,
      "outputs": [
        {
          "output_type": "stream",
          "name": "stdout",
          "text": [
            "Downloading data from https://storage.googleapis.com/tensorflow/tf-keras-datasets/mnist.npz\n",
            "11490434/11490434 [==============================] - 0s 0us/step\n"
          ]
        }
      ]
    },
    {
      "cell_type": "markdown",
      "source": [
        "### **Using Padding to prevent info loss in images**"
      ],
      "metadata": {
        "id": "OX8B43FCGoRo"
      }
    },
    {
      "cell_type": "markdown",
      "source": [
        "CNNs typically expect inputs to have a specific format, commonly represented as (batch_size, height, width, channels)."
      ],
      "metadata": {
        "id": "N6Np6jTlEmXZ"
      }
    },
    {
      "cell_type": "markdown",
      "source": [
        "When working with images in CNNs, the \"channels\" dimension refers to the color channels of the image. In the case of MNIST, the images are grayscale, so they have only one channel. Therefore, the initial shape of each MNIST image is (28, 28, 1).\n",
        "\n",
        "However, the CNN architecture usually expects a 4-dimensional tensor as input, with the first dimension representing the batch size (the number of images in each batch). So, before feeding the data into the CNN, the images are reshaped to include the batch size dimension. \n",
        "\n",
        "The final shape of the MNIST data becomes (batch_size, 28, 28, 1), where each image is represented as a 28x28 matrix with one channel."
      ],
      "metadata": {
        "id": "dmblXbH_EwIL"
      }
    },
    {
      "cell_type": "code",
      "source": [
        "#checking the shape before reshaping\n",
        "print(X_train.shape)\n",
        "print(X_test.shape)"
      ],
      "metadata": {
        "colab": {
          "base_uri": "https://localhost:8080/"
        },
        "id": "pVnf0n25GA5R",
        "outputId": "311e947d-9484-49de-d147-25b128c07fe5"
      },
      "execution_count": 3,
      "outputs": [
        {
          "output_type": "stream",
          "name": "stdout",
          "text": [
            "(60000, 28, 28)\n",
            "(10000, 28, 28)\n"
          ]
        }
      ]
    },
    {
      "cell_type": "code",
      "source": [
        "#reshaping data\n",
        "X_train = X_train.reshape((X_train.shape[0], X_train.shape[1], X_train.shape[2], 1))\n",
        "X_test = X_test.reshape((X_test.shape[0],X_test.shape[1],X_test.shape[2],1))"
      ],
      "metadata": {
        "id": "wMl2eBSp2-e-"
      },
      "execution_count": 4,
      "outputs": []
    },
    {
      "cell_type": "code",
      "source": [
        "#checking the shape after reshaping\n",
        "print(X_train.shape)\n",
        "print(X_test.shape)"
      ],
      "metadata": {
        "colab": {
          "base_uri": "https://localhost:8080/"
        },
        "id": "4SaygGiw2kRU",
        "outputId": "76a181ed-2ef1-41ef-9770-9e0185045648"
      },
      "execution_count": 5,
      "outputs": [
        {
          "output_type": "stream",
          "name": "stdout",
          "text": [
            "(60000, 28, 28, 1)\n",
            "(10000, 28, 28, 1)\n"
          ]
        }
      ]
    },
    {
      "cell_type": "code",
      "source": [
        "# Normalize pixel values to be between 0 and 1\n",
        "X_train = X_train / 255.0\n",
        "X_test = X_test / 255.0\n"
      ],
      "metadata": {
        "id": "qFVchPIC1naV"
      },
      "execution_count": 6,
      "outputs": []
    },
    {
      "cell_type": "code",
      "source": [
        "#defining model\n",
        "model=Sequential()\n"
      ],
      "metadata": {
        "id": "3C_uBxD92n0c"
      },
      "execution_count": 7,
      "outputs": []
    },
    {
      "cell_type": "code",
      "source": [
        "#adding convolution layer\n",
        "model.add(Conv2D(32,(3,3),activation='relu',input_shape=(28,28,1)))\n",
        "model.add(MaxPool2D((2, 2)))\n",
        "model.add(Conv2D(64, (3, 3), activation='relu'))\n",
        "model.add(MaxPool2D((2, 2)))\n",
        "model.add(Conv2D(64, (3, 3), activation='relu'))\n"
      ],
      "metadata": {
        "id": "VAGKjjoyGSxS"
      },
      "execution_count": 8,
      "outputs": []
    },
    {
      "cell_type": "code",
      "source": [
        "#adding fully connected layer\n",
        "model.add(Flatten())\n",
        "model.add(Dense(100,activation='relu'))"
      ],
      "metadata": {
        "id": "H8ok7TKMH7Gw"
      },
      "execution_count": 9,
      "outputs": []
    },
    {
      "cell_type": "code",
      "source": [
        "#adding output layer\n",
        "model.add(Dense(10,activation='softmax'))"
      ],
      "metadata": {
        "id": "0BDroA14ICwT"
      },
      "execution_count": 10,
      "outputs": []
    },
    {
      "cell_type": "code",
      "source": [
        "#compiling the model\n",
        "#in sparse categorical crossentropy we dont need to do one hot encoding\n",
        "model.compile(loss='sparse_categorical_crossentropy',optimizer='adam',metrics=['accuracy'])"
      ],
      "metadata": {
        "id": "h5c6i2tdIOco"
      },
      "execution_count": 11,
      "outputs": []
    },
    {
      "cell_type": "code",
      "source": [
        "model.summary()"
      ],
      "metadata": {
        "colab": {
          "base_uri": "https://localhost:8080/"
        },
        "id": "Xfbcm-D_Ihjk",
        "outputId": "5574dc59-75ea-436b-8b03-bccda4bb5f58"
      },
      "execution_count": 14,
      "outputs": [
        {
          "output_type": "stream",
          "name": "stdout",
          "text": [
            "Model: \"sequential\"\n",
            "_________________________________________________________________\n",
            " Layer (type)                Output Shape              Param #   \n",
            "=================================================================\n",
            " conv2d (Conv2D)             (None, 26, 26, 32)        320       \n",
            "                                                                 \n",
            " max_pooling2d (MaxPooling2D  (None, 13, 13, 32)       0         \n",
            " )                                                               \n",
            "                                                                 \n",
            " conv2d_1 (Conv2D)           (None, 11, 11, 64)        18496     \n",
            "                                                                 \n",
            " max_pooling2d_1 (MaxPooling  (None, 5, 5, 64)         0         \n",
            " 2D)                                                             \n",
            "                                                                 \n",
            " conv2d_2 (Conv2D)           (None, 3, 3, 64)          36928     \n",
            "                                                                 \n",
            " flatten (Flatten)           (None, 576)               0         \n",
            "                                                                 \n",
            " dense (Dense)               (None, 100)               57700     \n",
            "                                                                 \n",
            " dense_1 (Dense)             (None, 10)                1010      \n",
            "                                                                 \n",
            "=================================================================\n",
            "Total params: 114,454\n",
            "Trainable params: 114,454\n",
            "Non-trainable params: 0\n",
            "_________________________________________________________________\n"
          ]
        }
      ]
    },
    {
      "cell_type": "code",
      "source": [
        "from keras.callbacks import EarlyStopping\n",
        "from keras.callbacks import ModelCheckpoint\n",
        "from keras.models import load_model"
      ],
      "metadata": {
        "id": "7TYQiTJHLgkU"
      },
      "execution_count": 21,
      "outputs": []
    },
    {
      "cell_type": "code",
      "source": [
        "# Implementation of early stopping and Saving best model\n",
        "es = EarlyStopping(monitor='val_loss', mode='min', verbose=1, patience=20)\n",
        "mc = ModelCheckpoint('best_model.h5', monitor='val_accuracy', mode='max', verbose=1, save_best_only=True)"
      ],
      "metadata": {
        "id": "mEyIkaF6LbfT"
      },
      "execution_count": 19,
      "outputs": []
    },
    {
      "cell_type": "code",
      "source": [
        "#fitting the model\n",
        "history = model.fit(X_train,y_train,epochs=25,validation_split=0.2,callbacks = [es, mc])"
      ],
      "metadata": {
        "colab": {
          "base_uri": "https://localhost:8080/"
        },
        "id": "dLISkQmoIYOC",
        "outputId": "88667628-b52b-49ac-a479-7accd97c8f6b"
      },
      "execution_count": 20,
      "outputs": [
        {
          "output_type": "stream",
          "name": "stdout",
          "text": [
            "Epoch 1/25\n",
            "1500/1500 [==============================] - ETA: 0s - loss: 0.0044 - accuracy: 0.9988\n",
            "Epoch 1: val_accuracy improved from -inf to 0.99300, saving model to best_model.h5\n",
            "1500/1500 [==============================] - 6s 4ms/step - loss: 0.0044 - accuracy: 0.9988 - val_loss: 0.0408 - val_accuracy: 0.9930\n",
            "Epoch 2/25\n",
            "1487/1500 [============================>.] - ETA: 0s - loss: 0.0036 - accuracy: 0.9989\n",
            "Epoch 2: val_accuracy improved from 0.99300 to 0.99358, saving model to best_model.h5\n",
            "1500/1500 [==============================] - 7s 5ms/step - loss: 0.0036 - accuracy: 0.9989 - val_loss: 0.0434 - val_accuracy: 0.9936\n",
            "Epoch 3/25\n",
            "1490/1500 [============================>.] - ETA: 0s - loss: 0.0047 - accuracy: 0.9987\n",
            "Epoch 3: val_accuracy did not improve from 0.99358\n",
            "1500/1500 [==============================] - 7s 5ms/step - loss: 0.0047 - accuracy: 0.9987 - val_loss: 0.0416 - val_accuracy: 0.9929\n",
            "Epoch 4/25\n",
            "1493/1500 [============================>.] - ETA: 0s - loss: 0.0036 - accuracy: 0.9990\n",
            "Epoch 4: val_accuracy did not improve from 0.99358\n",
            "1500/1500 [==============================] - 7s 5ms/step - loss: 0.0036 - accuracy: 0.9990 - val_loss: 0.0540 - val_accuracy: 0.9912\n",
            "Epoch 5/25\n",
            "1487/1500 [============================>.] - ETA: 0s - loss: 0.0032 - accuracy: 0.9991\n",
            "Epoch 5: val_accuracy did not improve from 0.99358\n",
            "1500/1500 [==============================] - 6s 4ms/step - loss: 0.0032 - accuracy: 0.9991 - val_loss: 0.0587 - val_accuracy: 0.9923\n",
            "Epoch 6/25\n",
            "1499/1500 [============================>.] - ETA: 0s - loss: 0.0030 - accuracy: 0.9991\n",
            "Epoch 6: val_accuracy did not improve from 0.99358\n",
            "1500/1500 [==============================] - 7s 5ms/step - loss: 0.0030 - accuracy: 0.9991 - val_loss: 0.0546 - val_accuracy: 0.9923\n",
            "Epoch 7/25\n",
            "1497/1500 [============================>.] - ETA: 0s - loss: 0.0051 - accuracy: 0.9986\n",
            "Epoch 7: val_accuracy did not improve from 0.99358\n",
            "1500/1500 [==============================] - 7s 4ms/step - loss: 0.0050 - accuracy: 0.9986 - val_loss: 0.0526 - val_accuracy: 0.9926\n",
            "Epoch 8/25\n",
            "1486/1500 [============================>.] - ETA: 0s - loss: 0.0059 - accuracy: 0.9986\n",
            "Epoch 8: val_accuracy did not improve from 0.99358\n",
            "1500/1500 [==============================] - 7s 5ms/step - loss: 0.0059 - accuracy: 0.9986 - val_loss: 0.0627 - val_accuracy: 0.9927\n",
            "Epoch 9/25\n",
            "1495/1500 [============================>.] - ETA: 0s - loss: 0.0023 - accuracy: 0.9993\n",
            "Epoch 9: val_accuracy did not improve from 0.99358\n",
            "1500/1500 [==============================] - 7s 4ms/step - loss: 0.0023 - accuracy: 0.9993 - val_loss: 0.0648 - val_accuracy: 0.9914\n",
            "Epoch 10/25\n",
            "1498/1500 [============================>.] - ETA: 0s - loss: 0.0038 - accuracy: 0.9991\n",
            "Epoch 10: val_accuracy did not improve from 0.99358\n",
            "1500/1500 [==============================] - 7s 5ms/step - loss: 0.0038 - accuracy: 0.9991 - val_loss: 0.0440 - val_accuracy: 0.9934\n",
            "Epoch 11/25\n",
            "1497/1500 [============================>.] - ETA: 0s - loss: 0.0024 - accuracy: 0.9993\n",
            "Epoch 11: val_accuracy did not improve from 0.99358\n",
            "1500/1500 [==============================] - 7s 5ms/step - loss: 0.0024 - accuracy: 0.9993 - val_loss: 0.0500 - val_accuracy: 0.9923\n",
            "Epoch 12/25\n",
            "1494/1500 [============================>.] - ETA: 0s - loss: 0.0042 - accuracy: 0.9989\n",
            "Epoch 12: val_accuracy did not improve from 0.99358\n",
            "1500/1500 [==============================] - 7s 5ms/step - loss: 0.0041 - accuracy: 0.9989 - val_loss: 0.0524 - val_accuracy: 0.9933\n",
            "Epoch 13/25\n",
            "1493/1500 [============================>.] - ETA: 0s - loss: 0.0028 - accuracy: 0.9991\n",
            "Epoch 13: val_accuracy did not improve from 0.99358\n",
            "1500/1500 [==============================] - 7s 4ms/step - loss: 0.0028 - accuracy: 0.9991 - val_loss: 0.0543 - val_accuracy: 0.9922\n",
            "Epoch 14/25\n",
            "1500/1500 [==============================] - ETA: 0s - loss: 0.0032 - accuracy: 0.9992\n",
            "Epoch 14: val_accuracy did not improve from 0.99358\n",
            "1500/1500 [==============================] - 7s 5ms/step - loss: 0.0032 - accuracy: 0.9992 - val_loss: 0.0588 - val_accuracy: 0.9924\n",
            "Epoch 15/25\n",
            "1488/1500 [============================>.] - ETA: 0s - loss: 0.0043 - accuracy: 0.9990\n",
            "Epoch 15: val_accuracy improved from 0.99358 to 0.99383, saving model to best_model.h5\n",
            "1500/1500 [==============================] - 7s 5ms/step - loss: 0.0043 - accuracy: 0.9990 - val_loss: 0.0574 - val_accuracy: 0.9938\n",
            "Epoch 16/25\n",
            "1496/1500 [============================>.] - ETA: 0s - loss: 6.3092e-04 - accuracy: 0.9998\n",
            "Epoch 16: val_accuracy improved from 0.99383 to 0.99392, saving model to best_model.h5\n",
            "1500/1500 [==============================] - 7s 5ms/step - loss: 6.2928e-04 - accuracy: 0.9998 - val_loss: 0.0589 - val_accuracy: 0.9939\n",
            "Epoch 17/25\n",
            "1490/1500 [============================>.] - ETA: 0s - loss: 0.0034 - accuracy: 0.9990\n",
            "Epoch 17: val_accuracy did not improve from 0.99392\n",
            "1500/1500 [==============================] - 7s 5ms/step - loss: 0.0035 - accuracy: 0.9990 - val_loss: 0.0824 - val_accuracy: 0.9913\n",
            "Epoch 18/25\n",
            "1488/1500 [============================>.] - ETA: 0s - loss: 0.0056 - accuracy: 0.9988\n",
            "Epoch 18: val_accuracy did not improve from 0.99392\n",
            "1500/1500 [==============================] - 7s 5ms/step - loss: 0.0055 - accuracy: 0.9988 - val_loss: 0.0634 - val_accuracy: 0.9933\n",
            "Epoch 19/25\n",
            "1499/1500 [============================>.] - ETA: 0s - loss: 0.0027 - accuracy: 0.9992\n",
            "Epoch 19: val_accuracy did not improve from 0.99392\n",
            "1500/1500 [==============================] - 6s 4ms/step - loss: 0.0027 - accuracy: 0.9992 - val_loss: 0.0670 - val_accuracy: 0.9932\n",
            "Epoch 20/25\n",
            "1499/1500 [============================>.] - ETA: 0s - loss: 0.0037 - accuracy: 0.9991\n",
            "Epoch 20: val_accuracy did not improve from 0.99392\n",
            "1500/1500 [==============================] - 7s 5ms/step - loss: 0.0037 - accuracy: 0.9991 - val_loss: 0.0639 - val_accuracy: 0.9933\n",
            "Epoch 21/25\n",
            "1488/1500 [============================>.] - ETA: 0s - loss: 0.0030 - accuracy: 0.9993\n",
            "Epoch 21: val_accuracy did not improve from 0.99392\n",
            "1500/1500 [==============================] - 7s 5ms/step - loss: 0.0031 - accuracy: 0.9993 - val_loss: 0.0787 - val_accuracy: 0.9918\n",
            "Epoch 21: early stopping\n"
          ]
        }
      ]
    },
    {
      "cell_type": "code",
      "source": [
        "history.history[\"accuracy\"]"
      ],
      "metadata": {
        "colab": {
          "base_uri": "https://localhost:8080/"
        },
        "id": "lAC6elQ1NNNw",
        "outputId": "3ac8986e-fbd5-40fb-c459-1ca36d3d2e7b"
      },
      "execution_count": 26,
      "outputs": [
        {
          "output_type": "execute_result",
          "data": {
            "text/plain": [
              "[0.9987708330154419,\n",
              " 0.9988541603088379,\n",
              " 0.9987083077430725,\n",
              " 0.9989791512489319,\n",
              " 0.9991041421890259,\n",
              " 0.9991250038146973,\n",
              " 0.9985833168029785,\n",
              " 0.9986249804496765,\n",
              " 0.9993333220481873,\n",
              " 0.9990624785423279,\n",
              " 0.9992708563804626,\n",
              " 0.9989374876022339,\n",
              " 0.9991458058357239,\n",
              " 0.9992499947547913,\n",
              " 0.9990208148956299,\n",
              " 0.99979168176651,\n",
              " 0.9989791512489319,\n",
              " 0.9987708330154419,\n",
              " 0.9992291927337646,\n",
              " 0.9990624785423279,\n",
              " 0.9993333220481873]"
            ]
          },
          "metadata": {},
          "execution_count": 26
        }
      ]
    },
    {
      "cell_type": "code",
      "source": [
        "saved_model = load_model('best_model.h5')"
      ],
      "metadata": {
        "id": "xPDmGJGvMCI0"
      },
      "execution_count": 22,
      "outputs": []
    },
    {
      "cell_type": "code",
      "source": [
        "y_pred = saved_model.predict(X_test)\n",
        "y_pred"
      ],
      "metadata": {
        "colab": {
          "base_uri": "https://localhost:8080/"
        },
        "id": "V8AmkOFrKtfT",
        "outputId": "57e02bb3-5823-4101-c366-55b2ea897ad8"
      },
      "execution_count": 23,
      "outputs": [
        {
          "output_type": "stream",
          "name": "stdout",
          "text": [
            "313/313 [==============================] - 1s 2ms/step\n"
          ]
        },
        {
          "output_type": "execute_result",
          "data": {
            "text/plain": [
              "array([[3.6032234e-32, 5.5020433e-31, 7.8618710e-27, ..., 1.0000000e+00,\n",
              "        1.1978652e-32, 1.2711772e-32],\n",
              "       [2.0079746e-26, 2.0809260e-26, 1.0000000e+00, ..., 7.0343228e-31,\n",
              "        1.3871739e-34, 8.1655635e-38],\n",
              "       [9.3012459e-15, 1.0000000e+00, 6.2313236e-17, ..., 1.5581655e-13,\n",
              "        9.8511362e-14, 1.8153041e-14],\n",
              "       ...,\n",
              "       [0.0000000e+00, 2.7639164e-35, 0.0000000e+00, ..., 3.8917286e-28,\n",
              "        2.8934832e-24, 3.3630290e-28],\n",
              "       [5.2084007e-29, 1.0990085e-33, 0.0000000e+00, ..., 0.0000000e+00,\n",
              "        1.4567634e-22, 2.3380065e-26],\n",
              "       [8.9285403e-26, 2.4752428e-36, 0.0000000e+00, ..., 0.0000000e+00,\n",
              "        1.3028764e-33, 3.9069630e-34]], dtype=float32)"
            ]
          },
          "metadata": {},
          "execution_count": 23
        }
      ]
    },
    {
      "cell_type": "code",
      "source": [
        "import matplotlib.pyplot as plt\n",
        "%matplotlib inline \n",
        "\n",
        "y_pred = model.predict(X_test)\n",
        "X_test__ = X_test.reshape(X_test.shape[0], 28, 28)\n",
        "\n",
        "fig, axis = plt.subplots(4, 4, figsize=(12, 14))\n",
        "for i, ax in enumerate(axis.flat):\n",
        "    ax.imshow(X_test__[i], cmap='binary')\n",
        "    ax.set(title = f\"Real Number is {y_test[i].argmax()}\\nPredict Number is {y_pred[i].argmax()}\");"
      ],
      "metadata": {
        "colab": {
          "base_uri": "https://localhost:8080/",
          "height": 807
        },
        "id": "E0J8ME2TNbsq",
        "outputId": "9b2a3691-d9b2-41bb-d4b5-1e0fba612c01"
      },
      "execution_count": 28,
      "outputs": [
        {
          "output_type": "stream",
          "name": "stdout",
          "text": [
            "313/313 [==============================] - 1s 2ms/step\n"
          ]
        },
        {
          "output_type": "display_data",
          "data": {
            "text/plain": [
              "<Figure size 1200x1400 with 16 Axes>"
            ],
            "image/png": "[encoded data removed]"
          },
          "metadata": {}
        }
      ]
    },
    {
      "cell_type": "code",
      "source": [
        "train_acc = saved_model.evaluate(X_train, y_train, verbose=1)\n",
        "test_acc = saved_model.evaluate(X_test, y_test, verbose=1)\n",
        "print('Train loss, Train accuracy :', (train_acc))\n",
        "print ('.........................')\n",
        "print('Test loss, Test accuracy:', (test_acc))"
      ],
      "metadata": {
        "colab": {
          "base_uri": "https://localhost:8080/"
        },
        "id": "USnzsj8rOzvR",
        "outputId": "09853ac4-c72b-4780-d628-056dcacfe033"
      },
      "execution_count": 33,
      "outputs": [
        {
          "output_type": "stream",
          "name": "stdout",
          "text": [
            "1875/1875 [==============================] - 4s 2ms/step - loss: 0.0118 - accuracy: 0.9988\n",
            "313/313 [==============================] - 1s 3ms/step - loss: 0.0645 - accuracy: 0.9921\n",
            "Train loss, Train accuracy : [0.0118109667673707, 0.9987666606903076]\n",
            ".........................\n",
            "Test loss, Test accuracy: [0.06450800597667694, 0.9921000003814697]\n"
          ]
        }
      ]
    },
    {
      "cell_type": "code",
      "source": [],
      "metadata": {
        "id": "HsB2T_AMRE0p"
      },
      "execution_count": null,
      "outputs": []
    }
  ]
}